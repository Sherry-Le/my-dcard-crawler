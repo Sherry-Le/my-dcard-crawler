{
  "nbformat": 4,
  "nbformat_minor": 0,
  "metadata": {
    "colab": {
      "provenance": []
    },
    "kernelspec": {
      "name": "python3",
      "display_name": "Python 3"
    },
    "language_info": {
      "name": "python"
    }
  },
  "cells": [
    {
      "cell_type": "code",
      "execution_count": 1,
      "metadata": {
        "colab": {
          "base_uri": "https://localhost:8080/"
        },
        "id": "9O6nFmTlm4jj",
        "outputId": "b75f354b-fce8-4bd3-9694-5839c77dc64a"
      },
      "outputs": [
        {
          "output_type": "stream",
          "name": "stdout",
          "text": [
            "✅ 已儲存標題到 dcard_titles.csv\n"
          ]
        }
      ],
      "source": [
        "import requests\n",
        "from bs4 import BeautifulSoup\n",
        "import csv\n",
        "\n",
        "url = 'https://www.dcard.tw/f'\n",
        "headers = {\n",
        "    'User-Agent': 'Mozilla/5.0'\n",
        "}\n",
        "response = requests.get(url, headers=headers)\n",
        "soup = BeautifulSoup(response.text, 'html.parser')\n",
        "\n",
        "# 抓標題（可能要依據實際 class 調整）\n",
        "titles = []\n",
        "for title_tag in soup.select('h2'):\n",
        "    if title_tag.text.strip():\n",
        "        titles.append(title_tag.text.strip())\n",
        "\n",
        "# 存成 CSV\n",
        "with open('dcard_titles.csv', 'w', newline='', encoding='utf-8') as f:\n",
        "    writer = csv.writer(f)\n",
        "    writer.writerow(['標題'])\n",
        "    for title in titles:\n",
        "        writer.writerow([title])\n",
        "\n",
        "print(\"✅ 已儲存標題到 dcard_titles.csv\")\n"
      ]
    }
  ]
}